{
 "cells": [
  {
   "cell_type": "code",
   "execution_count": 1,
   "metadata": {
    "collapsed": false
   },
   "outputs": [],
   "source": [
    "# Using the pcap https://mrncciew.files.wordpress.com/2014/08/wpa2-psk-final.zip for testing\n",
    "\n",
    "from binascii import a2b_hex, b2a_hex, a2b_qp\n",
    "from pbkdf2 import PBKDF2\n",
    "import hmac\n",
    "from hashlib import sha1\n",
    "import struct\n",
    "from Crypto.Cipher import AES"
   ]
  },
  {
   "cell_type": "code",
   "execution_count": 2,
   "metadata": {
    "collapsed": true
   },
   "outputs": [],
   "source": [
    "def PRF512(key,A,B):\n",
    "    blen = 64\n",
    "    R    = ''\n",
    "    for i in range(0,4):\n",
    "        hmacsha1 = hmac.new(key,A+B+chr(i),sha1)\n",
    "        R = R+hmacsha1.digest()\n",
    "    return R[:blen]  "
   ]
  },
  {
   "cell_type": "code",
   "execution_count": 3,
   "metadata": {
    "collapsed": true
   },
   "outputs": [],
   "source": [
    "def frame_type(packet):\n",
    "    header_two_bytes = struct.unpack(\"h\", (packet[0:2]))[0]\n",
    "    fc_type = bin(header_two_bytes)[-8:][4:6]\n",
    "    if fc_type == \"10\":\n",
    "        return \"data\"\n",
    "    else:\n",
    "        return None"
   ]
  },
  {
   "cell_type": "code",
   "execution_count": 4,
   "metadata": {
    "collapsed": true
   },
   "outputs": [],
   "source": [
    "def compute_pairwise_master_key(preshared_key, ssid):\n",
    "    return PBKDF2(preshared_key, ssid, 4096).read(32)\n",
    "\n",
    "def compute_message_integrity_check(pairwise_transient_key,data):\n",
    "    return hmac.new(pairwise_transient_key[0:16],data,sha1).digest()[0:16]\n",
    "\n",
    "def compute_pairwise_transient_key(pairwise_master_key, A, B):\n",
    "    return PRF512(pairwise_master_key, A, B)"
   ]
  },
  {
   "cell_type": "code",
   "execution_count": 5,
   "metadata": {
    "collapsed": false
   },
   "outputs": [],
   "source": [
    "ssid = \"TEST1\"\n",
    "preshared_key = \"Cisco123Cisco123\"\n",
    "\n",
    "# From message 2 in handshake QoS data for 802.11, packet 95 in example pcap\n",
    "message_2_data = \"88012c0064a0e7af474e001bd458e61a64a0e7af474e10000600aaaa03000000888e0203007502010a00100000000000000000605e85a79cfafdb0eaa050683f97be1b66def7bc652057316871c273c5ae477f00000000000000000000000000000000000000000000000000000000000000009189cdf188548e73cd37d57852660588001630140100000fac040100000fac040100000fac022800\"\n",
    "message_2_data = a2b_hex(message_2_data)\n",
    "\n",
    "message_intgrity_code = message_2_data[115:131]\n",
    "data = message_2_data[34:115] + \"\\x00\"*16 + message_2_data[131:]"
   ]
  },
  {
   "cell_type": "code",
   "execution_count": 6,
   "metadata": {
    "collapsed": false
   },
   "outputs": [],
   "source": [
    "# authenticator nonce found in message 1 of handshake, packet 93 in example\n",
    "a_nonce  = a2b_hex(\"126ace64c1a644d27b84e039263b633bc374e3299d7d45e1c42544054805bfe5\")\n",
    "\n",
    "# supplicant nonce found in message 2 of handshake, packet 95 in example\n",
    "s_nonce  = a2b_hex(\"605e85a79cfafdb0eaa050683f97be1b66def7bc652057316871c273c5ae477f\")\n",
    "\n",
    "mac_access_point = a2b_hex(\"64a0e7af474e\")\n",
    "mac_client   = a2b_hex(\"001bd458e61a\")\n",
    "\n",
    "A = \"Pairwise key expansion\" + '\\x00'\n",
    "B = min(mac_access_point,mac_client)+max(mac_access_point,mac_client)+min(a_nonce,s_nonce)+max(a_nonce,s_nonce)"
   ]
  },
  {
   "cell_type": "code",
   "execution_count": 7,
   "metadata": {
    "collapsed": true
   },
   "outputs": [],
   "source": [
    "pairwise_master_key = compute_pairwise_master_key(preshared_key, ssid)\n",
    "pairwise_transient_key = compute_pairwise_transient_key(pairwise_master_key, A, B)\n",
    "mic = compute_message_integrity_check(pairwise_transient_key,data)"
   ]
  },
  {
   "cell_type": "code",
   "execution_count": 8,
   "metadata": {
    "collapsed": false
   },
   "outputs": [
    {
     "name": "stdout",
     "output_type": "stream",
     "text": [
      "True\n"
     ]
    }
   ],
   "source": [
    "# See the mic for packet 95\n",
    "print b2a_hex(mic) == \"9189cdf188548e73cd37d57852660588\""
   ]
  },
  {
   "cell_type": "code",
   "execution_count": 9,
   "metadata": {
    "collapsed": false
   },
   "outputs": [],
   "source": [
    "key_confirmation_key = pairwise_transient_key[0:16]\n",
    "key_encryption_key = pairwise_transient_key[16:16*2]\n",
    "temporal_key = pairwise_transient_key[16 * 2:(16 * 2) + 16]\n",
    "mic_authenticator_tx = pairwise_transient_key[16 * 3:(16 * 3) + 8]\n",
    "mic_authenticator_rx =  pairwise_transient_key[(16 * 3) + 8:(16 * 3) + 8 + 8]"
   ]
  },
  {
   "cell_type": "code",
   "execution_count": 45,
   "metadata": {
    "collapsed": true
   },
   "outputs": [],
   "source": [
    "packet_103_encrypted_total_packet = \"88512c0064a0e7af474e001bd458e61a64a0e7af474e1000000001000020000000003d833a329d1d0ccc0372742ab1031986151713a0c160a6035752c214ce42bebdaefad728edf8a728e013fb3939046e0823753aa4339f953c197d49e10a1e1aa2d19175bcf61e81867af5c8024a3d29ebce166e4401ea6994\"\n",
    "packet_103_encrypted_total_packet = a2b_hex(packet_103_encrypted_total_packet)\n",
    "packet_103_encrypted_data = packet_103_encrypted_total_packet[34:34+84]"
   ]
  },
  {
   "cell_type": "code",
   "execution_count": 46,
   "metadata": {
    "collapsed": true
   },
   "outputs": [],
   "source": [
    "ccmp_header = packet_103_encrypted_total_packet[26:26 + 8]\n",
    "ieee80211_header = packet_103_encrypted_total_packet[0:26]\n",
    "source_address = packet_103_encrypted_total_packet[10:16]"
   ]
  },
  {
   "cell_type": "code",
   "execution_count": 47,
   "metadata": {
    "collapsed": false
   },
   "outputs": [],
   "source": [
    "PN5 = ccmp_header[7]\n",
    "PN4 =  ccmp_header[6]\n",
    "PN3 =  ccmp_header[5]\n",
    "PN2 =  ccmp_header[4]\n",
    "PN1 =  ccmp_header[1]\n",
    "PN0 =  ccmp_header[0]\n",
    "\n",
    "last_part_of_nonce = PN5 + PN4 + PN3 + PN2 + PN1 + PN0\n",
    "\n",
    "flag = a2b_hex('01')\n",
    "qos_priorty = a2b_hex('00')"
   ]
  },
  {
   "cell_type": "code",
   "execution_count": 48,
   "metadata": {
    "collapsed": true
   },
   "outputs": [],
   "source": [
    "nonce_ = qos_priorty + source_address + last_part_of_nonce\n",
    "IV = flag + nonce_"
   ]
  },
  {
   "cell_type": "code",
   "execution_count": 49,
   "metadata": {
    "collapsed": false
   },
   "outputs": [],
   "source": [
    "class WPA2Counter(object):\n",
    "  def __init__(self, secret):\n",
    "    self.secret = secret\n",
    "    self.current = 1\n",
    "  def counter(self):\n",
    "    count = a2b_hex(struct.pack('>h', self.current).encode('hex'))\n",
    "    i = self.secret + count\n",
    "    self.current += 1\n",
    "    return i"
   ]
  },
  {
   "cell_type": "code",
   "execution_count": 51,
   "metadata": {
    "collapsed": false
   },
   "outputs": [
    {
     "data": {
      "text/plain": [
       "'aaaa030040960000004c300064a0e7af474e001bd458e61a009b00300040960064a0e7af474f002400064d79486f6d6500000000000000000000000000000000000000000000000000000416'"
      ]
     },
     "execution_count": 51,
     "metadata": {},
     "output_type": "execute_result"
    }
   ],
   "source": [
    "counter = WPA2Counter(IV)\n",
    "crypto = AES.new(temporal_key, AES.MODE_CTR, counter=counter.counter)\n",
    "test = packet_103_encrypted_data[0:-8]\n",
    "crypto.decrypt(test).encode('hex')"
   ]
  }
 ],
 "metadata": {
  "kernelspec": {
   "display_name": "Python 2",
   "language": "python",
   "name": "python2"
  },
  "language_info": {
   "codemirror_mode": {
    "name": "ipython",
    "version": 2
   },
   "file_extension": ".py",
   "mimetype": "text/x-python",
   "name": "python",
   "nbconvert_exporter": "python",
   "pygments_lexer": "ipython2",
   "version": "2.7.9"
  }
 },
 "nbformat": 4,
 "nbformat_minor": 0
}
